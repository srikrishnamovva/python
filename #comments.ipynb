{
 "cells": [
  {
   "cell_type": "code",
   "execution_count": 1,
   "id": "dd533ff2-f60d-4efd-9eea-c858ed80f368",
   "metadata": {},
   "outputs": [],
   "source": [
    "## comments in python "
   ]
  },
  {
   "cell_type": "raw",
   "id": "62e82eed-09f2-4922-a80b-8924290823f4",
   "metadata": {},
   "source": [
    "comments are the statements in which python ignores the line till end \n",
    "in python we have two types of comments:\n",
    "1.single-line comments\n",
    "2.multi-line comments.\n",
    "\n",
    "let us see how the comments work out."
   ]
  },
  {
   "cell_type": "raw",
   "id": "8cde0f7e-9ddf-4b05-b3ec-e59a0fac5ed6",
   "metadata": {},
   "source": [
    "single line comments are reprasented using - #\n",
    "\n",
    "multiple line comments are reprasented using nothing but every line has to be hashed(#) in front."
   ]
  },
  {
   "cell_type": "code",
   "execution_count": 2,
   "id": "267465fd-0986-4092-a63e-576e68a1e5ad",
   "metadata": {},
   "outputs": [
    {
     "name": "stdout",
     "output_type": "stream",
     "text": [
      "hello world\n"
     ]
    }
   ],
   "source": [
    "# this is a single-line comment\n",
    "print(\"hello world\")"
   ]
  },
  {
   "cell_type": "code",
   "execution_count": 3,
   "id": "4f2cfb0b-622f-48f0-ad43-5756a92c3f81",
   "metadata": {},
   "outputs": [
    {
     "name": "stdout",
     "output_type": "stream",
     "text": [
      "hello world\n"
     ]
    }
   ],
   "source": [
    "print(\"hello world\") # in-line comment"
   ]
  },
  {
   "cell_type": "code",
   "execution_count": 4,
   "id": "4029f1de-2fa8-48ed-9e0a-7ed62d4903ea",
   "metadata": {},
   "outputs": [
    {
     "name": "stdout",
     "output_type": "stream",
     "text": [
      "hello world\n"
     ]
    }
   ],
   "source": [
    "# this is a demo for \n",
    "# multi-line comment\n",
    "# demo of hello word code\n",
    "\n",
    "print(\"hello world\")"
   ]
  },
  {
   "cell_type": "code",
   "execution_count": 5,
   "id": "743abbce-7ea2-4ae4-b177-17c05a21659d",
   "metadata": {},
   "outputs": [],
   "source": [
    "## docstrings in python"
   ]
  },
  {
   "cell_type": "raw",
   "id": "87872b56-35f3-4394-b3d4-191caf1b39d6",
   "metadata": {},
   "source": [
    "docstrings are not comments but are used as just like a comments which are placed in between a tripple quotes (''' hello ''')\n",
    "docstrings are used to give a detailed information of the code that what we are coding/writting.\n",
    "\n",
    "docsrings are not ignored by an interpreter where as comments does."
   ]
  },
  {
   "cell_type": "code",
   "execution_count": 6,
   "id": "4c5113b0-16c2-4d8e-9cbc-e15f9f7d867e",
   "metadata": {},
   "outputs": [
    {
     "name": "stdout",
     "output_type": "stream",
     "text": [
      "hello world\n"
     ]
    }
   ],
   "source": [
    "''' this is an example for docstring notations '''\n",
    "print(\"hello world\")"
   ]
  },
  {
   "cell_type": "code",
   "execution_count": 7,
   "id": "2654fd2f-b3c8-4b6e-910a-35ccb5a9a474",
   "metadata": {},
   "outputs": [
    {
     "name": "stdout",
     "output_type": "stream",
     "text": [
      "hello world\n"
     ]
    },
    {
     "data": {
      "text/plain": [
       "' this is  a below docstring '"
      ]
     },
     "execution_count": 7,
     "metadata": {},
     "output_type": "execute_result"
    }
   ],
   "source": [
    "print(\"hello world\")\n",
    "''' this is  a below docstring '''"
   ]
  },
  {
   "cell_type": "code",
   "execution_count": 8,
   "id": "c7b110d9-e671-40af-8fab-5a376e7767c1",
   "metadata": {},
   "outputs": [
    {
     "name": "stdout",
     "output_type": "stream",
     "text": [
      "hello world\n"
     ]
    }
   ],
   "source": [
    "''' this is an example for docstring notations '''\n",
    "print(\"hello world\")"
   ]
  },
  {
   "cell_type": "raw",
   "id": "88e70e55-20c9-4889-9075-7359cfd1a3e7",
   "metadata": {},
   "source": [
    "the docstrings which are written above the code are ignored where as docstrings written below the code are executed \n",
    "so we must be much carefull in writting a docstrings."
   ]
  },
  {
   "cell_type": "code",
   "execution_count": null,
   "id": "aaac8c70-5d5b-452a-8b52-496995f31819",
   "metadata": {},
   "outputs": [],
   "source": []
  }
 ],
 "metadata": {
  "kernelspec": {
   "display_name": "Python 3 (ipykernel)",
   "language": "python",
   "name": "python3"
  },
  "language_info": {
   "codemirror_mode": {
    "name": "ipython",
    "version": 3
   },
   "file_extension": ".py",
   "mimetype": "text/x-python",
   "name": "python",
   "nbconvert_exporter": "python",
   "pygments_lexer": "ipython3",
   "version": "3.9.7"
  }
 },
 "nbformat": 4,
 "nbformat_minor": 5
}
