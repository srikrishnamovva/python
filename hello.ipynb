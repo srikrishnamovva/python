{
 "cells": [
  {
   "cell_type": "code",
   "execution_count": 1,
   "id": "4149bb73-e15d-4ea5-bac9-ff81f5477706",
   "metadata": {},
   "outputs": [
    {
     "name": "stdout",
     "output_type": "stream",
     "text": [
      "hello pytho\n"
     ]
    }
   ],
   "source": [
    "print(\"hello pytho\")"
   ]
  },
  {
   "cell_type": "code",
   "execution_count": null,
   "id": "186dff99-b394-4f9a-bf5e-9f4a7c065b77",
   "metadata": {},
   "outputs": [],
   "source": []
  },
  {
   "cell_type": "code",
   "execution_count": null,
   "id": "6d892868-01b8-46e7-86b2-6e1c4e861373",
   "metadata": {},
   "outputs": [],
   "source": []
  }
 ],
 "metadata": {
  "kernelspec": {
   "display_name": "Python 3 (ipykernel)",
   "language": "python",
   "name": "python3"
  },
  "language_info": {
   "codemirror_mode": {
    "name": "ipython",
    "version": 3
   },
   "file_extension": ".py",
   "mimetype": "text/x-python",
   "name": "python",
   "nbconvert_exporter": "python",
   "pygments_lexer": "ipython3",
   "version": "3.9.7"
  }
 },
 "nbformat": 4,
 "nbformat_minor": 5
}
